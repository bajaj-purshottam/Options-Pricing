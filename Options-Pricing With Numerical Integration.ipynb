{
 "cells": [
  {
   "cell_type": "code",
   "execution_count": 1,
   "metadata": {},
   "outputs": [],
   "source": [
    "import numpy as np\n",
    "import matplotlib.pyplot as plt\n",
    "import time"
   ]
  },
  {
   "cell_type": "code",
   "execution_count": 2,
   "metadata": {},
   "outputs": [],
   "source": [
    "# Fixed Paramaters\n",
    "SO = 100\n",
    "K = 140\n",
    "r = 0.05\n",
    "q = 0.01\n",
    "sig = 0.3\n",
    "T = 1.0"
   ]
  },
  {
   "cell_type": "code",
   "execution_count": 4,
   "metadata": {},
   "outputs": [],
   "source": [
    "# model under consideration\n",
    "model = 'LogNormal'"
   ]
  },
  {
   "cell_type": "code",
   "execution_count": 6,
   "metadata": {},
   "outputs": [],
   "source": [
    "def logNormal(S,r,q,sig,SO,T):\n",
    "    \n",
    "    f = np.exp(-0.5*(((np.log(S/SO) - (r-q-(sig**2)/2)*T))**2))/(sig*np.sqrt(2*np.pi*T)*S)\n",
    "    \n",
    "    return f"
   ]
  },
  {
   "cell_type": "code",
   "execution_count": 13,
   "metadata": {},
   "outputs": [],
   "source": [
    "def evaluateIntegral(*args):\n",
    "    r = args[0]\n",
    "    q = args[1]\n",
    "    SO = args[2]\n",
    "    K = args[3]\n",
    "    sig = args[4]\n",
    "    T = args[5]\n",
    "    N = args[6]\n",
    "    dS = args[7]\n",
    "    \n",
    "    # discount factor\n",
    "    df = np.exp(-r*T)\n",
    "    \n",
    "    #=====================================================================================\n",
    "    # evaluation of the integral using Trapezoidal method\n",
    "    \n",
    "    # Calls and puts are different\n",
    "    # ------------------------------------------------------------------------------------\n",
    "    \n",
    "    # Call -- integrate from K to B\n",
    "    \n",
    "    S = np.zeros((N,1))\n",
    "    for j in range(N):\n",
    "        S[j] = K + j*dS\n",
    "    tmp = logNormal(S,r,q,sig,SO,T)\n",
    "    sumC = 0\n",
    "    for j in range(N):\n",
    "        if j == 0:\n",
    "            wj = dS/2\n",
    "        else:\n",
    "            wj = dS\n",
    "        sumC += (S[j] - K)*tmp[j]*wj\n",
    "    cO_KT = df * sumC\n",
    "    \n",
    "    # Put -- integrate from 0 to K\n",
    "    \n",
    "    S = np.zeros((N,1))\n",
    "    eta = K/N\n",
    "    print(eta)\n",
    "    for j in range(N):\n",
    "        S[j] = 0.1 + j*eta\n",
    "    tmp = logNormal(S,r,q,sig,SO,T)\n",
    "    sumP = 0\n",
    "    for j in range(N):\n",
    "        if j == 0:\n",
    "            wj = eta/2\n",
    "        else:\n",
    "            wj = eta\n",
    "        sumP += (K-S[j])*tmp[j]*wj\n",
    "    pO_KT = df*sumP\n",
    "    \n",
    "    return pO_KT,cO_KT"
   ]
  },
  {
   "cell_type": "code",
   "execution_count": 14,
   "metadata": {},
   "outputs": [
    {
     "name": "stdout",
     "output_type": "stream",
     "text": [
      " \n",
      "===================================\n",
      "Model is LogNormal\n",
      "-----------------------------------\n",
      "0.2734375\n",
      "[8.18796948] [148.57761669]\n",
      "0.010400056838989258\n"
     ]
    }
   ],
   "source": [
    "# step-size\n",
    "dS = 0.1\n",
    "\n",
    "# number of grid points\n",
    "n = 9\n",
    "N = 2**n\n",
    "B = K + N*dS\n",
    "\n",
    "start_time = time.time()\n",
    "\n",
    "print(' ')\n",
    "print('===================================')\n",
    "print('Model is %s' % model)\n",
    "print('-----------------------------------')\n",
    "arg = (r,q,SO,K,sig,T,N,dS)\n",
    "pO_KT,cO_KT = evaluateIntegral(*arg)\n",
    "print(cO_KT,pO_KT)\n",
    "elapsed_time = time.time() - start_time\n",
    "print(elapsed_time)"
   ]
  }
 ],
 "metadata": {
  "kernelspec": {
   "display_name": "Python 3",
   "language": "python",
   "name": "python3"
  },
  "language_info": {
   "codemirror_mode": {
    "name": "ipython",
    "version": 3
   },
   "file_extension": ".py",
   "mimetype": "text/x-python",
   "name": "python",
   "nbconvert_exporter": "python",
   "pygments_lexer": "ipython3",
   "version": "3.8.5"
  }
 },
 "nbformat": 4,
 "nbformat_minor": 4
}
